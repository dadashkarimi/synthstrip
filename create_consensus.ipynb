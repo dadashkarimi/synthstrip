{
 "cells": [
  {
   "cell_type": "code",
   "execution_count": null,
   "id": "955b7e71-7450-4e93-8e4b-8157493c3dc6",
   "metadata": {},
   "outputs": [],
   "source": [
    "import os\n",
    "import nibabel as nib\n",
    "import numpy as np\n",
    "import surfa as sf \n",
    "\n",
    "def create_baseline_consensus(folder_path):\n",
    "    # List of baseline files\n",
    "    baseline_files = ['salehi.nii.gz', 'keraudren.nii.gz', 'ebner.nii.gz']\n",
    "\n",
    "    # Load baseline masks\n",
    "    masks = []\n",
    "    for baseline_file in baseline_files:\n",
    "        file_path = os.path.join(folder_path, baseline_file)\n",
    "        if os.path.exists(file_path):\n",
    "            mask_data = sf.load_volume(file_path)#nib.load(file_path).get_fdata()\n",
    "            mask_data = mask_data.data.astype(np.int32)\n",
    "\n",
    "            print(mask_data.shape)\n",
    "            masks.append(mask_data)\n",
    "        else:\n",
    "            print(f\"Warning: {baseline_file} not found in {folder_path}\")\n",
    "\n",
    "    if not masks:\n",
    "        print(\"Error: No baseline masks found.\")\n",
    "        return\n",
    "\n",
    "    # Combine masks using logical OR\n",
    "    consensus_mask = np.logical_or.reduce(masks).astype(np.uint8)\n",
    "\n",
    "    # Create nibabel image\n",
    "    affine = nib.load(os.path.join(folder_path, baseline_files[0])).affine\n",
    "    consensus_image = nib.Nifti1Image(consensus_mask, affine)\n",
    "\n",
    "    # Save the consensus image\n",
    "    consensus_file_path = os.path.join(folder_path, 'baseline-consensus.nii.gz')\n",
    "    nib.save(consensus_image, consensus_file_path)\n",
    "\n",
    "    print(f\"Baseline consensus mask saved to: {consensus_file_path}\")\n",
    "\n",
    "# Example usage:\n",
    "folder_path = 'test/haste_trim2/mom_040__19wk__4T2_Haste_Sag_mm_400_FOV'\n",
    "create_baseline_consensus(folder_path)\n"
   ]
  }
 ],
 "metadata": {
  "kernelspec": {
   "display_name": "Python 3 (ipykernel)",
   "language": "python",
   "name": "python3"
  },
  "language_info": {
   "codemirror_mode": {
    "name": "ipython",
    "version": 3
   },
   "file_extension": ".py",
   "mimetype": "text/x-python",
   "name": "python",
   "nbconvert_exporter": "python",
   "pygments_lexer": "ipython3",
   "version": "3.8.10"
  }
 },
 "nbformat": 4,
 "nbformat_minor": 5
}
