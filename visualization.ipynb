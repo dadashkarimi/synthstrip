{
 "cells": [
  {
   "cell_type": "code",
   "execution_count": 4,
   "id": "66f820db-820a-4071-bf4d-f5e55122a56e",
   "metadata": {},
   "outputs": [
    {
     "data": {
      "text/html": [
       "\n",
       "      <iframe id=\"tensorboard-frame-f264714bbe9be039\" width=\"100%\" height=\"800\" frameborder=\"0\">\n",
       "      </iframe>\n",
       "      <script>\n",
       "        (function() {\n",
       "          const frame = document.getElementById(\"tensorboard-frame-f264714bbe9be039\");\n",
       "          const url = new URL(\"/\", window.location);\n",
       "          const port = 6021;\n",
       "          if (port) {\n",
       "            url.port = port;\n",
       "          }\n",
       "          frame.src = url;\n",
       "        })();\n",
       "      </script>\n",
       "    "
      ],
      "text/plain": [
       "<IPython.core.display.HTML object>"
      ]
     },
     "metadata": {},
     "output_type": "display_data"
    },
    {
     "data": {
      "text/html": [
       "\n",
       "      <iframe id=\"tensorboard-frame-a48f79b57c071274\" width=\"100%\" height=\"800\" frameborder=\"0\">\n",
       "      </iframe>\n",
       "      <script>\n",
       "        (function() {\n",
       "          const frame = document.getElementById(\"tensorboard-frame-a48f79b57c071274\");\n",
       "          const url = new URL(\"/\", window.location);\n",
       "          const port = 6022;\n",
       "          if (port) {\n",
       "            url.port = port;\n",
       "          }\n",
       "          frame.src = url;\n",
       "        })();\n",
       "      </script>\n",
       "    "
      ],
      "text/plain": [
       "<IPython.core.display.HTML object>"
      ]
     },
     "metadata": {},
     "output_type": "display_data"
    },
    {
     "data": {
      "text/html": [
       "\n",
       "      <iframe id=\"tensorboard-frame-e6b3f37f6a00ca67\" width=\"100%\" height=\"800\" frameborder=\"0\">\n",
       "      </iframe>\n",
       "      <script>\n",
       "        (function() {\n",
       "          const frame = document.getElementById(\"tensorboard-frame-e6b3f37f6a00ca67\");\n",
       "          const url = new URL(\"/\", window.location);\n",
       "          const port = 6024;\n",
       "          if (port) {\n",
       "            url.port = port;\n",
       "          }\n",
       "          frame.src = url;\n",
       "        })();\n",
       "      </script>\n",
       "    "
      ],
      "text/plain": [
       "<IPython.core.display.HTML object>"
      ]
     },
     "metadata": {},
     "output_type": "display_data"
    },
    {
     "data": {
      "text/html": [
       "\n",
       "      <iframe id=\"tensorboard-frame-6c7d4405426f806d\" width=\"100%\" height=\"800\" frameborder=\"0\">\n",
       "      </iframe>\n",
       "      <script>\n",
       "        (function() {\n",
       "          const frame = document.getElementById(\"tensorboard-frame-6c7d4405426f806d\");\n",
       "          const url = new URL(\"/\", window.location);\n",
       "          const port = 6026;\n",
       "          if (port) {\n",
       "            url.port = port;\n",
       "          }\n",
       "          frame.src = url;\n",
       "        })();\n",
       "      </script>\n",
       "    "
      ],
      "text/plain": [
       "<IPython.core.display.HTML object>"
      ]
     },
     "metadata": {},
     "output_type": "display_data"
    }
   ],
   "source": [
    "# !pip install tensorflow tensorboard\n",
    "# import tensorboard as tb\n",
    "# !tb.shutdown()\n",
    "# %load_ext tensorboard\n",
    "# %tensorboard --logdir=logs_feta_mom_brain_params_32_64 --host localhost  # 1\n",
    "# %tensorboard --logdir=logs_feta_mom_brain_params_64_64_64_64_64 --host localhost  # 2\n",
    "# %tensorboard --logdir=logs_feta_mom_brain_params_128_128_128_128_128 --host localhost  # 3\n",
    "# %tensorboard --logdir=logs_feta_mom_brain_params_64_128_256 --host localhost  # 4\n",
    "# %tensorboard --logdir=logs_feta_mom_brain_params_64_128_256_512 --host localhost  # 5\n",
    "# %tensorboard --logdir=logs_feta_mom_brain_params_16_32_64_64_64_64_64_nc_2_bs_2 --host localhost  # 6\n",
    "# %tensorboard --logdir=logs_feta_mom_brain_params_16_32_64_64_64_128_128_nc_2_bs_1 --host localhost  # 7 with soft dice\n",
    "# %tensorboard --logdir=logs_feta_mom_brain_params_16_32_64_64_64_64_64_nc_4 --host localhost  # 8\n",
    "# %tensorboard --logdir=logs_feta_mom_brain_params_16_32_64_64_64_64_64_nc_2_bs_16 --host localhost  # 9\n",
    "# %tensorboard --logdir=logs_feta_mom_brain_params_16_32_64_64_64_64_64_nc_2_bs_1 --host localhost  # 10\n",
    "# %tensorboard --logdir=logs_feta_mom_brain_params_16_16_32_32_64_64_128_128_256_256_nc_2_bs_1 --host localhost  # 11 with soft dice\n",
    "# %tensorboard --logdir=logs_feta_mom_brain_params_16_16_32_32_64_64_64_64_64_64_64_64_64_64_nc_2_bs_1 --host localhost  # 12 with soft dice\n",
    "%reload_ext tensorboard\n",
    "# %tensorboard --logdir=logs_shapes_mgh_brain_params_dim_256_16_16_32_32_64_64_128_128_256_256_wm_0.2_shift_20 --host localhost --port 6023\n",
    "# %tensorboard --logdir=logs_fov_shapes_k_5_brain_mom_brain_params_dim_256_16_16_32_32_64_64_128_128_256_256_nc_2_bs_1_sc_0.8_zb_0.1 --host localhost   --port 6023 # synth\n",
    "# %tensorboard --logdir=logs_feta_mgh_body_params_dim_256_16_16_32_32_64_64_128_128_256_256_wm_0.2_shift_20 --host localhost   --port 6023 \n",
    "# %tensorboard --logdir=logs_mgh_brain_mgh_body_params_dim_256_16_16_32_32_64_64_128_128_256_256_wm_0.2_shift_20 --host localhost   --port 6023 \n",
    "# %tensorboard --logdir=logs_feta_mgh_body_192 --host localhost   --port 6024 #6\n",
    "# %tensorboard --logdir=logs_mgh_brain_mgh_body_192 --host localhost   --port 6023 # 5\n",
    "# %tensorboard --logdir=logs_feta_mgh_brain_mgh_body_192 --host localhost   --port 6022 # 4\n",
    "\n",
    "# %tensorboard --logdir=logs_synth_shapes_feta_192 --host localhost   --port 6025 # 2\n",
    "# %tensorboard --logdir=logs_shapes_feta_192 --host localhost   --port 6021 # 3\n",
    "%tensorboard --logdir=logs_synth_less_conc_norm_shapes_feta_192 --host localhost   --port 6021 # 3\n",
    "\n",
    "%tensorboard --logdir=logs_synth_less_conc_bn_norm_shapes_feta_192 --host localhost   --port 6022 # 4\n",
    "\n",
    "# %tensorboard --logdir=logs_2d_stride_1_shapes_feta_192 --host localhost   --port 6026 # 7\n",
    "# %tensorboard --logdir=logs_synth_shapes_feta_192 --host localhost   --port 6026 # 7\n",
    "# %tensorboard --logdir=logs_synth_detection_norm_shapes_feta_192 --host localhost   --port 6024 # 6\n",
    "%tensorboard --logdir=logs_synth_less_conc_90_shapes_feta_192 --host localhost   --port 6024 # 6\n",
    "\n",
    "# %tensorboard --logdir=logs_synth_less_conc_bn_shapes_feta_192 --host localhost   --port 6026 # 7\n",
    "# %tensorboard --logdir=logs_synth_less_conc_bn_norm_shapes_feta_192 --host localhost   --port 6026 # 7\n",
    "%tensorboard --logdir=logs_synth_less_conc_bn_90_shapes_feta_192 --host localhost   --port 6026 # 7"
   ]
  },
  {
   "cell_type": "code",
   "execution_count": 1,
   "id": "e04061f5-25bd-49b3-8a0c-bfe7a1a3121b",
   "metadata": {},
   "outputs": [
    {
     "name": "stderr",
     "output_type": "stream",
     "text": [
      "2024-03-06 20:45:31.458736: I tensorflow/core/util/port.cc:110] oneDNN custom operations are on. You may see slightly different numerical results due to floating-point round-off errors from different computation orders. To turn them off, set the environment variable `TF_ENABLE_ONEDNN_OPTS=0`.\n",
      "2024-03-06 20:45:31.508855: I tensorflow/core/platform/cpu_feature_guard.cc:182] This TensorFlow binary is optimized to use available CPU instructions in performance-critical operations.\n",
      "To enable the following instructions: AVX2 AVX512F AVX512_VNNI FMA, in other operations, rebuild TensorFlow with the appropriate compiler flags.\n"
     ]
    },
    {
     "name": "stdout",
     "output_type": "stream",
     "text": [
      "0\n"
     ]
    },
    {
     "data": {
      "image/png": "[encoded data removed]",
      "text/plain": [
       "<Figure size 640x480 with 1 Axes>"
      ]
     },
     "metadata": {},
     "output_type": "display_data"
    },
    {
     "name": "stdout",
     "output_type": "stream",
     "text": [
      "Plot saved as 'combined_loss_plot.png'\n"
     ]
    }
   ],
   "source": [
    "import os\n",
    "import tensorflow as tf\n",
    "from tensorboard.backend.event_processing.event_accumulator import EventAccumulator\n",
    "import numpy as np\n",
    "import matplotlib.pyplot as plt\n",
    "import matplotlib.ticker as mticker\n",
    "\n",
    "def custom_tick_formatter(x, pos):\n",
    "    return int(x / 10)  # Divide by 10 to display 10 times lower values\n",
    "\n",
    "def extract_epoch_loss(log_dirs):\n",
    "    epoch_losses = []\n",
    "\n",
    "    for log_dir in log_dirs:\n",
    "        event_acc = EventAccumulator(log_dir)\n",
    "        event_acc.Reload()\n",
    "\n",
    "        for tensor_event in event_acc.Tensors('epoch_loss'):\n",
    "            # Parse the tensor event data\n",
    "            data = tf.make_ndarray(tensor_event.tensor_proto)\n",
    "\n",
    "            # Extract the loss value (assuming it's a single value tensor)\n",
    "            if data.shape == ():\n",
    "                epoch_losses.append(data)\n",
    "\n",
    "    return epoch_losses\n",
    "\n",
    "initial_epoch= 1000\n",
    "last_epoch=10000\n",
    "steps_epoch=100\n",
    "logs_dir=\"logs.bi.zb.0.2\"\n",
    "\n",
    "log_dirs = [f'{logs_dir}/epoch_{epoch}/train' for epoch in range(steps_epoch, last_epoch, steps_epoch)\n",
    "            if os.path.exists(f'{logs_dir}/epoch_{epoch}/train')]\n",
    "\n",
    "epoch_losses = extract_epoch_loss(log_dirs)\n",
    "print(len(log_dirs))\n",
    "\n",
    "num_epochs = len(epoch_losses)\n",
    "x_values = np.arange(initial_epoch, initial_epoch + num_epochs * steps_epoch, steps_epoch)\n",
    "\n",
    "\n",
    "# Create a figure and plot the data\n",
    "fig, ax = plt.subplots()\n",
    "ax.plot(x_values, epoch_losses, label='Epoch Loss')\n",
    "ax.set_xlabel('Epoch')\n",
    "ax.set_ylabel('Loss')\n",
    "ax.legend()\n",
    "ax.grid(True)\n",
    "\n",
    "ax.xaxis.set_major_formatter(mticker.FuncFormatter(custom_tick_formatter))\n",
    "\n",
    "\n",
    "\n",
    "# Save the plot to a file using a different method\n",
    "fig = plt.gcf()\n",
    "fig.savefig('images/combined_loss_plot.png', dpi=300, bbox_inches='tight', format='png')\n",
    "plt.show()\n",
    "plt.close(fig)  # Close the figure to release resources\n",
    "\n",
    "# Optionally, display the saved file path\n",
    "print(\"Plot saved as 'combined_loss_plot.png'\")\n"
   ]
  },
  {
   "cell_type": "code",
   "execution_count": 1,
   "id": "54a273e5-5073-4c64-8404-780dbb5dbfc8",
   "metadata": {},
   "outputs": [
    {
     "name": "stderr",
     "output_type": "stream",
     "text": [
      "2023-10-14 11:08:53.956466: I tensorflow/core/platform/cpu_feature_guard.cc:182] This TensorFlow binary is optimized to use available CPU instructions in performance-critical operations.\n",
      "To enable the following instructions: AVX2 AVX512F FMA, in other operations, rebuild TensorFlow with the appropriate compiler flags.\n"
     ]
    },
    {
     "name": "stdout",
     "output_type": "stream",
     "text": [
      "2.13.0\n"
     ]
    }
   ],
   "source": [
    "import tensorflow as tf\n",
    "print(tf.__version__)"
   ]
  },
  {
   "cell_type": "code",
   "execution_count": null,
   "id": "648bf538-5400-4d55-9ea4-8daf77c11709",
   "metadata": {},
   "outputs": [],
   "source": []
  }
 ],
 "metadata": {
  "kernelspec": {
   "display_name": "Python 3 (ipykernel)",
   "language": "python",
   "name": "python3"
  },
  "language_info": {
   "codemirror_mode": {
    "name": "ipython",
    "version": 3
   },
   "file_extension": ".py",
   "mimetype": "text/x-python",
   "name": "python",
   "nbconvert_exporter": "python",
   "pygments_lexer": "ipython3",
   "version": "3.8.10"
  }
 },
 "nbformat": 4,
 "nbformat_minor": 5
}
